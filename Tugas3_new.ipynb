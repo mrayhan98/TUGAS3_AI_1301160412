{
 "cells": [
  {
   "cell_type": "code",
   "execution_count": null,
   "metadata": {},
   "outputs": [],
   "source": [
    "import pandas as pd\n",
    "import numpy as np"
   ]
  },
  {
   "cell_type": "code",
   "execution_count": 2,
   "metadata": {},
   "outputs": [],
   "source": [
    "dataTrain = pd.read_csv('DataTrain_Tugas3_AI.csv');\n",
    "dataTest = pd.read_csv('DataTest_Tugas3_AI.csv');\n",
    "n=5"
   ]
  },
  {
   "cell_type": "code",
   "execution_count": null,
   "metadata": {},
   "outputs": [],
   "source": [
    "def fungsi(x1,x2):\n",
    "    return np.abs(x1-x2)"
   ]
  },
  {
   "cell_type": "code",
   "execution_count": 4,
   "metadata": {},
   "outputs": [],
   "source": [
    "array1=[]\n",
    "for m, j in dataTest.iterrows():\n",
    "    array2=[]\n",
    "    for k, l in dataTrain.iterrows():\n",
    "        hasil=0\n",
    "        for i in range(n):\n",
    "            hasil+=(fungsi(j[i+1],l[i+1]))\n",
    "        array2.append({'Class':l[6],'Jarak':hasil})\n",
    "    array2.sort(key=lambda n : n['Jarak'])\n",
    "    classes={}\n",
    "    for i in range(n):\n",
    "        if array2[i]['Class'] in classes:\n",
    "            classes[array2[i]['Class']]+=1\n",
    "        else:\n",
    "            classes[array2[i]['Class']]=1\n",
    "\n",
    "    array1.append('%g'%(max(classes, key=classes.get)))"
   ]
  },
  {
   "cell_type": "code",
   "execution_count": 5,
   "metadata": {},
   "outputs": [],
   "source": [
    "export = pd.DataFrame({\n",
    "    \"No\" : array1,\n",
    "})\n",
    "export.to_csv(\"TebakanTugas3.csv\", index=False)"
   ]
  },
  {
   "cell_type": "code",
   "execution_count": 6,
   "metadata": {},
   "outputs": [
    {
     "name": "stdout",
     "output_type": "stream",
     "text": [
      "     No\n",
      "0     1\n",
      "1     1\n",
      "2     1\n",
      "3     1\n",
      "4     1\n",
      "5     1\n",
      "6     1\n",
      "7     1\n",
      "8     1\n",
      "9     1\n",
      "10    0\n",
      "11    0\n",
      "12    1\n",
      "13    1\n",
      "14    2\n",
      "15    1\n",
      "16    0\n",
      "17    0\n",
      "18    0\n",
      "19    0\n",
      "20    1\n",
      "21    0\n",
      "22    0\n",
      "23    1\n",
      "24    1\n",
      "25    0\n",
      "26    0\n",
      "27    0\n",
      "28    1\n",
      "29    0\n",
      "..   ..\n",
      "170   2\n",
      "171   3\n",
      "172   0\n",
      "173   2\n",
      "174   2\n",
      "175   2\n",
      "176   2\n",
      "177   2\n",
      "178   3\n",
      "179   3\n",
      "180   3\n",
      "181   1\n",
      "182   2\n",
      "183   2\n",
      "184   1\n",
      "185   2\n",
      "186   3\n",
      "187   2\n",
      "188   3\n",
      "189   3\n",
      "190   2\n",
      "191   3\n",
      "192   2\n",
      "193   3\n",
      "194   3\n",
      "195   3\n",
      "196   3\n",
      "197   3\n",
      "198   3\n",
      "199   3\n",
      "\n",
      "[200 rows x 1 columns]\n"
     ]
    }
   ],
   "source": [
    "output = pd.read_csv(\"TebakanTugas3.csv\")\n",
    "print(output)"
   ]
  }
 ],
 "metadata": {
  "kernelspec": {
   "display_name": "Python 3",
   "language": "python",
   "name": "python3"
  },
  "language_info": {
   "codemirror_mode": {
    "name": "ipython",
    "version": 3
   },
   "file_extension": ".py",
   "mimetype": "text/x-python",
   "name": "python",
   "nbconvert_exporter": "python",
   "pygments_lexer": "ipython3",
   "version": "3.7.0"
  }
 },
 "nbformat": 4,
 "nbformat_minor": 1
}
